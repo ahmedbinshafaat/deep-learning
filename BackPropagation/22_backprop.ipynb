{
 "cells": [
  {
   "cell_type": "markdown",
   "metadata": {
    "deletable": false,
    "editable": false,
    "nbgrader": {
     "cell_type": "markdown",
     "checksum": "98cd42b9fa51e2cba8c897a349e339ef",
     "grade": false,
     "grade_id": "cell-87195ccb7e06731c",
     "locked": true,
     "schema_version": 3,
     "solution": false
    }
   },
   "source": [
    "<div class=\"alert alert-block alert-info\">\n",
    "<b>Number of points for this notebook:</b> 2\n",
    "<br>\n",
    "<b>Deadline:</b> March 9, 2020 (Monday). 23:00\n",
    "</div>\n",
    "\n",
    "# Exercise 2.2. Backpropagation. Batch processing.\n",
    "\n",
    "In this task, we implement MLP blocks that allow batch processing: processing multiple training examples at the same time. And we also perform training of an MLP on a toy data set."
   ]
  },
  {
   "cell_type": "code",
   "execution_count": 44,
   "metadata": {
    "deletable": false,
    "editable": false,
    "nbgrader": {
     "cell_type": "code",
     "checksum": "9eed5501920d3e124c40a66dcee99fa7",
     "grade": false,
     "grade_id": "cell-cafdead5e95c3773",
     "locked": true,
     "schema_version": 3,
     "solution": false
    }
   },
   "outputs": [],
   "source": [
    "import numpy as np\n",
    "import matplotlib.pyplot as plt\n",
    "\n",
    "%matplotlib inline"
   ]
  },
  {
   "cell_type": "code",
   "execution_count": 45,
   "metadata": {},
   "outputs": [],
   "source": [
    "skip_training = False  # Set this flag to True before validation and submission"
   ]
  },
  {
   "cell_type": "code",
   "execution_count": 46,
   "metadata": {
    "deletable": false,
    "editable": false,
    "nbgrader": {
     "cell_type": "code",
     "checksum": "fe00604c3ac013b22df1df7f9c7f175c",
     "grade": true,
     "grade_id": "evaluation_settings",
     "locked": true,
     "points": 0,
     "schema_version": 3,
     "solution": false,
     "task": false
    }
   },
   "outputs": [],
   "source": [
    "# During grading, this cell sets skip_training to True\n",
    "# skip_training = True"
   ]
  },
  {
   "cell_type": "code",
   "execution_count": 47,
   "metadata": {
    "deletable": false,
    "editable": false,
    "nbgrader": {
     "cell_type": "code",
     "checksum": "7431268c0145f4d724f4c57bc3d3501b",
     "grade": false,
     "grade_id": "cell-14c19df006e22022",
     "locked": true,
     "schema_version": 3,
     "solution": false
    }
   },
   "outputs": [],
   "source": [
    "def numerical_gradient(fun, x, eps=1e-4):\n",
    "    \"\"\"Compute derivatives of a given function fun numerically.\n",
    "    \n",
    "    Args:\n",
    "      fun: A python function fun(x) which accepts a vector argument (one-dimensional numpy array)\n",
    "           and returns a vector output (one-dimensional numpy array).\n",
    "      x:   An input vector for which the numerical gradient should be computed.\n",
    "      eps: A scalar which defines the magnitude of perturbations applied to the inputs.\n",
    "\n",
    "    Returns:\n",
    "      gnum: A two-dimensional array in which an element in row i and column j is the partial derivative of the\n",
    "            i-th output of function fun wrt j-th input of function fun (computed numerically).\n",
    "    \"\"\"\n",
    "    assert x.ndim <= 1, \"Only vector inputs are supported\"\n",
    "    e = np.zeros_like(x)\n",
    "    f = fun(x)\n",
    "    assert f.ndim <= 1, \"Only vector outputs are supported\"\n",
    "    gnum = np.zeros((f.size, x.size))\n",
    "    for i in range(len(x)):\n",
    "        e[:] = 0\n",
    "        e[i] = 1\n",
    "        f1, f2 = fun(x + e*eps), fun(x - e * eps)\n",
    "        gnum[:, i] = (f1 - f2) / (2 * eps)\n",
    "    return gnum"
   ]
  },
  {
   "cell_type": "markdown",
   "metadata": {
    "deletable": false,
    "editable": false,
    "nbgrader": {
     "cell_type": "markdown",
     "checksum": "f998783101ee302c84bc95a3cd8bb345",
     "grade": false,
     "grade_id": "cell-51cc37ff548d6c9d",
     "locked": true,
     "schema_version": 3,
     "solution": false,
     "task": false
    }
   },
   "source": [
    "In this notebook, we will process two-dimensional arrays of shape `(batch_size, some_size)`. We will need to adjust our implementation of the MLP blocks to process such inputs correctly.\n",
    "\n",
    "In the blocks below, please implement classes `MSELoss` and `Tanh`. Note that your implementation of `MSELoss` and `Tanh` from the first part of the assignment is likely to work for two-dimensional arrays without any modification (of course, we recommended you to test that)."
   ]
  },
  {
   "cell_type": "code",
   "execution_count": 48,
   "metadata": {
    "deletable": false,
    "nbgrader": {
     "cell_type": "code",
     "checksum": "637ecb94f4a34e07c67c80b603740afd",
     "grade": false,
     "grade_id": "MSELoss",
     "locked": false,
     "schema_version": 3,
     "solution": true,
     "task": false
    }
   },
   "outputs": [],
   "source": [
    "class MSELoss:\n",
    "    def forward(self, y, target):\n",
    "        \"\"\"\n",
    "        Args:\n",
    "          y (array):      Inputs of the loss function (can be, e.g., an output of a neural network),\n",
    "                           shape (batch_size, xsize).\n",
    "          target (array): Targets, shape (batch_size, xsize).\n",
    "        \n",
    "        Returns:\n",
    "          loss (float): The value of the loss.\n",
    "        \"\"\"\n",
    "        self.diff = diff = y - target  # Keep this for backward computations\n",
    "        c = np.sum(np.square(diff)) / diff.size\n",
    "        return c\n",
    "\n",
    "    def backward(self):\n",
    "        \"\"\"\n",
    "        Returns:\n",
    "          dy (array): Gradient of the MSE loss wrt the inputs, shape (batch_size, xsize).\n",
    "        \"\"\"\n",
    "        assert hasattr(self, 'diff'), \"Need to call forward() first\"\n",
    "        dot=np.dot(2,self.diff)\n",
    "        dy=np.divide(dot,self.diff.size)\n",
    "        return dy\n",
    "        #raise NotImplementedError()"
   ]
  },
  {
   "cell_type": "code",
   "execution_count": 49,
   "metadata": {
    "deletable": false,
    "nbgrader": {
     "cell_type": "code",
     "checksum": "54033a1681cb43321fc07cd0c7b73c03",
     "grade": false,
     "grade_id": "Tanh",
     "locked": false,
     "schema_version": 3,
     "solution": true,
     "task": false
    }
   },
   "outputs": [],
   "source": [
    "class Tanh:\n",
    "    def forward(self, x):\n",
    "        \"\"\"\n",
    "        Args:\n",
    "          x (array): Input of shape (batch_size, xsize).\n",
    "        \n",
    "        Returns:\n",
    "          y (array): Output of shape (batch_size, xsize).\n",
    "        \"\"\"\n",
    "        self.x = x\n",
    "        return np.tanh(self.x)\n",
    "        #raise NotImplementedError()\n",
    "\n",
    "    def backward(self, dy):\n",
    "        \"\"\"\n",
    "        Args:\n",
    "          dy (array): Gradient of a loss wrt outputs, shape (batch_size, xsize).\n",
    "        \n",
    "        Returns:\n",
    "          dx (array): Gradient of a loss wrt inputs, shape (batch_size, xsize).\n",
    "        \"\"\"\n",
    "        assert hasattr(self, 'x'), \"Need to call forward() first.\"\n",
    "        dx=1-np.square(self.forward(self.x))\n",
    "        return(dy*dx)"
   ]
  },
  {
   "cell_type": "markdown",
   "metadata": {
    "deletable": false,
    "editable": false,
    "nbgrader": {
     "cell_type": "markdown",
     "checksum": "d7431697c584f338e7904299702a3187",
     "grade": false,
     "grade_id": "cell-b71f50dda717743d",
     "locked": true,
     "schema_version": 3,
     "solution": false
    }
   },
   "source": [
    "## 1. Linear layer which supports batch processing\n",
    "\n",
    "In the cell below, we implement forward and backward computations for a linear layer which supports batch processing."
   ]
  },
  {
   "cell_type": "code",
   "execution_count": 50,
   "metadata": {
    "deletable": false,
    "nbgrader": {
     "cell_type": "code",
     "checksum": "c66bd5eca3b95d39609c507c9e6433f7",
     "grade": false,
     "grade_id": "cell-225997cdacc80572",
     "locked": false,
     "schema_version": 3,
     "solution": true,
     "task": false
    }
   },
   "outputs": [],
   "source": [
    "def linear_forward_batch(x, W, b):\n",
    "    \"\"\"Forward computations in the linear layer:\n",
    "        y = W x + b\n",
    "\n",
    "    Args:\n",
    "      x (array): Inputs of shape (batch_size, xsize).\n",
    "      W (array): Weight matrix of shape (ysize, xsize).\n",
    "      b (array): Bias term of shape (ysize,).\n",
    "\n",
    "    Returns:\n",
    "      y (array): Outputs of shape (batch_size, ysize).\n",
    "    \"\"\"\n",
    "    return np.dot(x,W.T) + b\n",
    "\n",
    "def linear_backward_batch(dy, x, W, b):\n",
    "    \"\"\"Backward computations in the linear layer.\n",
    "\n",
    "    Args:\n",
    "      dy (array): Gradient of a loss wrt outputs, shape (batch_size, ysize).\n",
    "      x (array): Input of shape (batch_size, xsize).\n",
    "      W (array): Weight matrix of shape (ysize, xsize).\n",
    "      b (array): Bias term of shape (ysize,).\n",
    "\n",
    "    Returns:\n",
    "      dx (array): Gradient of a loss wrt inputs, shape (batch_size, xsize).\n",
    "      dW (array): Gradient wrt weight matrix W, shape (ysize, xsize).\n",
    "      db (array): Gradient wrt bias term b, shape (ysize,).\n",
    "    \"\"\"\n",
    "    assert dy.ndim == 2 and dy.shape[1] == W.shape[0]\n",
    "    dx=np.dot(dy,W)\n",
    "    dw=np.dot(dy.T,x)\n",
    "    db=np.sum(dy,axis=0)\n",
    "    return dx,dw,db\n",
    "    #raise NotImplementedError()"
   ]
  },
  {
   "cell_type": "code",
   "execution_count": 51,
   "metadata": {
    "deletable": false,
    "editable": false,
    "nbgrader": {
     "cell_type": "code",
     "checksum": "86ecbf548a7176053ee9186d7d651353",
     "grade": false,
     "grade_id": "cell-7d17ae70e7b767ae",
     "locked": true,
     "schema_version": 3,
     "solution": false,
     "task": false
    }
   },
   "outputs": [
    {
     "name": "stdout",
     "output_type": "stream",
     "text": [
      "Analytical gradient:\n",
      " [[10.75114033  4.59572931]\n",
      " [10.98580981  5.31843784]\n",
      " [11.22047928  6.04114638]]\n",
      "Numerical gradient:\n",
      " [[10.75114033  4.59572931]\n",
      " [10.98580981  5.31843784]\n",
      " [11.22047928  6.04114638]]\n",
      "Success\n"
     ]
    }
   ],
   "source": [
    "def test_linear_batch():\n",
    "    batch_size = 4\n",
    "    x = np.random.randn(batch_size, 2)\n",
    "    W = np.random.randn(3, 2)\n",
    "    b = np.random.randn(3)\n",
    "\n",
    "    # Test shapes\n",
    "    y = linear_forward_batch(x, W, b)\n",
    "    dy = np.arange(batch_size * 3).reshape((batch_size, 3))\n",
    "    dx, dW, db = linear_backward_batch(dy, x, W, b)\n",
    "    assert dx.shape == x.shape, f\"Bad dx.shape={dx.shape}, x.shape={x.shape}\"\n",
    "    assert dW.shape == W.shape, f\"Bad dW.shape={dW.shape}, W.shape={W.shape}\"\n",
    "    assert db.shape == b.shape, f\"Bad db.shape={db.shape}, b.shape={b.shape}\"\n",
    "\n",
    "    # Test gradient wrt W numerically\n",
    "    print('Analytical gradient:\\n', dW)\n",
    "    dW_num = numerical_gradient(lambda W: linear_forward_batch(x, W.reshape(3, 2), b).flatten(), W.flatten())\n",
    "    dW_num = dW_num.reshape(y.shape + W.shape)\n",
    "    expected = (dy[:, :, None, None] * dW_num).sum(axis=(0,1))\n",
    "    print('Numerical gradient:\\n', expected)\n",
    "    assert np.allclose(dW, expected), 'Analytical and numerical results differ'\n",
    "    print('Success')\n",
    "\n",
    "test_linear_batch()"
   ]
  },
  {
   "cell_type": "markdown",
   "metadata": {
    "deletable": false,
    "editable": false,
    "nbgrader": {
     "cell_type": "markdown",
     "checksum": "4137e6ce36250cf8abafae53b40c87c7",
     "grade": false,
     "grade_id": "cell-91d19db375ecd0d5",
     "locked": true,
     "schema_version": 3,
     "solution": false,
     "task": false
    }
   },
   "source": [
    "We recommend you to compare analytical and numerical computations of the gradients also wrt input `x` and bias term `b`."
   ]
  },
  {
   "cell_type": "code",
   "execution_count": 52,
   "metadata": {
    "deletable": false,
    "editable": false,
    "nbgrader": {
     "cell_type": "code",
     "checksum": "90b048fd2e8f3db3d29b5c49c50ac5c3",
     "grade": true,
     "grade_id": "linear_batch_Wb",
     "locked": true,
     "points": 0.5,
     "schema_version": 3,
     "solution": false,
     "task": false
    }
   },
   "outputs": [],
   "source": [
    "# This cell tests linear_batch_forward and linear_batch_backward"
   ]
  },
  {
   "cell_type": "code",
   "execution_count": 53,
   "metadata": {
    "deletable": false,
    "editable": false,
    "nbgrader": {
     "cell_type": "code",
     "checksum": "b5523b22dc3de49b096304280fe2f255",
     "grade": true,
     "grade_id": "cell-6bad54818463363a",
     "locked": true,
     "points": 0.25,
     "schema_version": 3,
     "solution": false,
     "task": false
    }
   },
   "outputs": [],
   "source": [
    "# This cell tests linear_batch_forward and linear_batch_backward"
   ]
  },
  {
   "cell_type": "code",
   "execution_count": 54,
   "metadata": {
    "deletable": false,
    "editable": false,
    "nbgrader": {
     "cell_type": "code",
     "checksum": "a05cc72b42f869144f79dd1576051754",
     "grade": true,
     "grade_id": "linear_batch_x",
     "locked": true,
     "points": 0.5,
     "schema_version": 3,
     "solution": false,
     "task": false
    }
   },
   "outputs": [],
   "source": [
    "# This cell tests linear_batch_forward and linear_batch_backward"
   ]
  },
  {
   "cell_type": "markdown",
   "metadata": {
    "deletable": false,
    "editable": false,
    "nbgrader": {
     "cell_type": "markdown",
     "checksum": "3ad522c578be014878b1fca82fcb6947",
     "grade": false,
     "grade_id": "cell-96395e08fccd7200",
     "locked": true,
     "schema_version": 3,
     "solution": false,
     "task": false
    }
   },
   "source": [
    "Now we define a linear layer which supports batch processing."
   ]
  },
  {
   "cell_type": "code",
   "execution_count": 55,
   "metadata": {
    "deletable": false,
    "editable": false,
    "nbgrader": {
     "cell_type": "code",
     "checksum": "6ae3da9815f962a602dc0aac95e2765b",
     "grade": false,
     "grade_id": "cell-bc17d247e1fbdf32",
     "locked": true,
     "schema_version": 3,
     "solution": false,
     "task": false
    }
   },
   "outputs": [],
   "source": [
    "class LinearBatch:\n",
    "    def __init__(self, in_features, out_features):\n",
    "        \"\"\"\n",
    "        Args:\n",
    "          in_features (int): Number of input features which should be equal to xsize.\n",
    "          out_features (out): Number of output features which should be equal to ysize.\n",
    "        \"\"\"\n",
    "        self.in_features = in_features\n",
    "        self.out_features = out_features\n",
    "        \n",
    "        # Initialization of the weights\n",
    "        bound = 3 / np.sqrt(in_features)\n",
    "        self.W = np.random.uniform(-bound, bound, (out_features, in_features))\n",
    "        bound = 1 / np.sqrt(in_features)\n",
    "        self.b = np.random.uniform(-bound, bound, out_features)\n",
    "\n",
    "        self.grad_W = None\n",
    "        self.grad_b = None\n",
    "\n",
    "    def forward(self, x):\n",
    "        \"\"\"\n",
    "        Args:\n",
    "          x (array): Inputs of shape (batch_size, xsize).\n",
    "        \n",
    "        Returns:\n",
    "          y (array): Outputs of shape (batch_size, ysize).\n",
    "        \"\"\"\n",
    "        self.x = x  # Keep this for backward computations\n",
    "        return linear_forward_batch(x, self.W, self.b)\n",
    "\n",
    "    def backward(self, dy):\n",
    "        \"\"\"\n",
    "        Args:\n",
    "          dy (array): gradient of a loss wrt outputs, shape (batch_size, ysize).\n",
    "        \n",
    "        Returns:\n",
    "          dx (array): gradient of a loss wrt inputs, shape (batch_size, xsize).\n",
    "        \"\"\"\n",
    "        assert hasattr(self, 'x'), \"Need to call forward() first\"\n",
    "        assert dy.ndim == 2 and dy.shape[1] == self.W.shape[0]\n",
    "        dx, self.grad_W, self.grad_b = linear_backward_batch(dy, self.x, self.W, self.b)\n",
    "        return dx"
   ]
  },
  {
   "cell_type": "code",
   "execution_count": 56,
   "metadata": {
    "deletable": false,
    "editable": false,
    "nbgrader": {
     "cell_type": "code",
     "checksum": "4777c87115128f50ad0e0164768030a7",
     "grade": false,
     "grade_id": "cell-9275de846357269d",
     "locked": true,
     "schema_version": 3,
     "solution": false,
     "task": false
    }
   },
   "outputs": [],
   "source": [
    "# We can now create a linear layer which supports batch processing, ...\n",
    "layer = LinearBatch(in_features=3, out_features=2)\n",
    "\n",
    "# do forward computations ...\n",
    "batch_size = 4\n",
    "x = np.random.randn(batch_size, 3)\n",
    "y = layer.forward(x)\n",
    "\n",
    "# and backward computations\n",
    "dy = np.arange(batch_size * 2).reshape((batch_size, 2))\n",
    "dx = layer.backward(dy)\n",
    "\n",
    "# We now have the gradients computed\n",
    "# wrt input x\n",
    "assert dx.shape == x.shape, f\"Bad dx.shape: {dx.shape}, x.shape={x.shape}\"\n",
    "# wrt weight matrix W\n",
    "assert layer.grad_W.shape == layer.W.shape, f\"Bad grad_W.shape: {layer.grad_W.shape}, W.shape={layer.W.shape}\"\n",
    "# wrt bias term b\n",
    "assert layer.grad_b.shape == layer.b.shape, f\"Bad grad_b.shape={layer.grad_b.shape}, b.shape={layer.b.shape}\""
   ]
  },
  {
   "cell_type": "markdown",
   "metadata": {
    "deletable": false,
    "editable": false,
    "nbgrader": {
     "cell_type": "markdown",
     "checksum": "2e1fef7f019d850ffc1cee5bff68da8c",
     "grade": false,
     "grade_id": "cell-15e28241c83862b3",
     "locked": true,
     "schema_version": 3,
     "solution": false
    }
   },
   "source": [
    "## 2. MLP implementation which supports batch processing\n",
    "\n",
    "In the cell below, implement an MLP with two hidden layers and `Tanh` nonlinearity which supports batch processing. Use instances of classes `LinearBatch` and `Tanh` in your implementation. These instances should be attributes of class `MLPBatch` such as attribute `fc1` in the example below:\n",
    "```\n",
    "    def __init__(self, in_features, hidden_size1, hidden_size2, out_features):\n",
    "        self.fc1 = LinearBatch(...)\n",
    "```"
   ]
  },
  {
   "cell_type": "code",
   "execution_count": 57,
   "metadata": {
    "deletable": false,
    "nbgrader": {
     "cell_type": "code",
     "checksum": "5245446b4dafa9a8489c7def877e9e1a",
     "grade": false,
     "grade_id": "MLPBatch",
     "locked": false,
     "schema_version": 3,
     "solution": true
    }
   },
   "outputs": [],
   "source": [
    "class MLPBatch:\n",
    "    def __init__(self, in_features, hidden_size1, hidden_size2, out_features):\n",
    "        \"\"\"\n",
    "        Args:\n",
    "          in_features (int): Number of inputs which should be equal to xsize.\n",
    "          hidden_size1 (int): Number of units in the first hidden layer.\n",
    "          hidden_size2 (int): Number of units in the second hidden layer.\n",
    "          out_features (int): Number of outputs which should be equal to ysize.\n",
    "        \"\"\"\n",
    "        self.fc1 = LinearBatch(in_features, hidden_size1)\n",
    "        self.activation_fn1 = Tanh()\n",
    "        self.fc2 = LinearBatch(hidden_size1, hidden_size2)\n",
    "        self.activation_fn2 = Tanh()\n",
    "        self.fc3 = LinearBatch(hidden_size2, out_features)\n",
    "        #raise NotImplementedError()\n",
    "\n",
    "    def forward(self, x):\n",
    "        \"\"\"\n",
    "        Args:\n",
    "          x (array): Input of shape [batch_size, xsize].\n",
    "        \n",
    "        Returns:\n",
    "          y (array): Output of shape [batch_size, ysize].\n",
    "        \"\"\"\n",
    "        x1=self.activation_fn1.forward(self.fc1.forward(x))\n",
    "        x2=self.activation_fn2.forward(self.fc2.forward(x1))\n",
    "        return self.fc3.forward(x2)\n",
    "        #raise NotImplementedError()\n",
    "\n",
    "    def backward(self, dy):\n",
    "        \"\"\"\n",
    "        Args:\n",
    "          dy (array): Gradient of a loss wrt outputs (shape [batch_size, ysize]).\n",
    "        \n",
    "        Returns:\n",
    "          dx (array): Gradient of a loss wrt inputs (shape [batch_size, xsize]).\n",
    "        \"\"\"\n",
    "        x=self.fc3.backward(dy)\n",
    "        x1=self.activation_fn2.backward(x)\n",
    "        x2=self.fc2.backward(x1)\n",
    "        x3=self.activation_fn1.backward(x2)\n",
    "        x4=self.fc1.backward(x3)\n",
    "        return x4\n",
    "        #raise NotImplementedError()"
   ]
  },
  {
   "cell_type": "code",
   "execution_count": 58,
   "metadata": {
    "deletable": false,
    "editable": false,
    "nbgrader": {
     "cell_type": "code",
     "checksum": "a4517087a3fac10667886a688b23fcf1",
     "grade": false,
     "grade_id": "cell-07c80ef21983d673",
     "locked": true,
     "schema_version": 3,
     "solution": false,
     "task": false
    }
   },
   "outputs": [
    {
     "name": "stdout",
     "output_type": "stream",
     "text": [
      "Success\n"
     ]
    }
   ],
   "source": [
    "def test_MLPBatch_shapes():\n",
    "    batch_size = 10\n",
    "    x = np.random.randn(batch_size, 1)\n",
    "    mlp_batch = MLPBatch(1, 10, 20, 1)\n",
    "    y = mlp_batch.forward(x)\n",
    "\n",
    "    dy = np.arange(batch_size).reshape((batch_size, 1))   # Dummy gradient of a loss function wrt MLP's outputs.\n",
    "    dx = mlp_batch.backward(dy)\n",
    "    assert dx.shape == x.shape, f\"Bad dx.shape={dx.shape}, x.shape={x.shape}\"\n",
    "    print('Success')\n",
    "\n",
    "test_MLPBatch_shapes()"
   ]
  },
  {
   "cell_type": "code",
   "execution_count": 59,
   "metadata": {
    "deletable": false,
    "editable": false,
    "nbgrader": {
     "cell_type": "code",
     "checksum": "ace99f8ef95c6ba8aec27f263a4bcac0",
     "grade": true,
     "grade_id": "test_MLPBatch",
     "locked": true,
     "points": 0.75,
     "schema_version": 3,
     "solution": false
    }
   },
   "outputs": [],
   "source": [
    "# This cell tests MLPBatch"
   ]
  },
  {
   "cell_type": "code",
   "execution_count": 60,
   "metadata": {
    "deletable": false,
    "editable": false,
    "nbgrader": {
     "cell_type": "code",
     "checksum": "a5b95c8c59605d0902557809dd6750e5",
     "grade": false,
     "grade_id": "cell-91d50afcfcbc324d",
     "locked": true,
     "schema_version": 3,
     "solution": false
    }
   },
   "outputs": [
    {
     "data": {
      "text/plain": [
       "<matplotlib.legend.Legend at 0x7f13a5412518>"
      ]
     },
     "execution_count": 60,
     "metadata": {},
     "output_type": "execute_result"
    },
    {
     "data": {
      "image/png": "[encoded data removed]",
      "text/plain": [
       "<Figure size 432x288 with 1 Axes>"
      ]
     },
     "metadata": {
      "needs_background": "light"
     },
     "output_type": "display_data"
    }
   ],
   "source": [
    "# Let's create an MLP with random weights and compute the gradients wrt the inputs\n",
    "batch_size = 100\n",
    "x = np.linspace(-10, 10, batch_size)\n",
    "mlp_batch = MLPBatch(1, 10, 20, 1)\n",
    "y = mlp_batch.forward(x.reshape((batch_size, 1))).flatten()\n",
    "\n",
    "dy_dx = mlp_batch.backward(np.ones((batch_size, 1))).flatten()\n",
    "\n",
    "fig, ax = plt.subplots()\n",
    "ax.plot(x, y)\n",
    "ax.plot(x, dy_dx)\n",
    "ax.grid(True)\n",
    "ax.legend(['y', 'dy_dx'])"
   ]
  },
  {
   "cell_type": "markdown",
   "metadata": {
    "deletable": false,
    "editable": false,
    "nbgrader": {
     "cell_type": "markdown",
     "checksum": "fbb865aabe7b04a79776e7f6fed6750f",
     "grade": false,
     "grade_id": "cell-d5136f1291f0c36a",
     "locked": true,
     "schema_version": 3,
     "solution": false,
     "task": false
    }
   },
   "source": [
    "You can visually inspect whether the computations of the derivative seem correct.\n",
    "\n",
    "More importantly, we can compute the gradient of a loss wrt the parameters of the MLP. The gradients can be used to update the parameters using gradient descent."
   ]
  },
  {
   "cell_type": "markdown",
   "metadata": {
    "deletable": false,
    "editable": false,
    "nbgrader": {
     "cell_type": "markdown",
     "checksum": "6f6fcdd4102626693e5ba198e5fbc96a",
     "grade": false,
     "grade_id": "cell-0630dc5ad992327d",
     "locked": true,
     "schema_version": 3,
     "solution": false,
     "task": false
    }
   },
   "source": [
    "## 3. Training MLP network with backpropagation\n",
    "\n",
    "Now let us use our code to train an MLP network."
   ]
  },
  {
   "cell_type": "code",
   "execution_count": 61,
   "metadata": {
    "deletable": false,
    "editable": false,
    "nbgrader": {
     "cell_type": "code",
     "checksum": "2e0b1798b19d46a30fd9585db6867ec8",
     "grade": false,
     "grade_id": "cell-bb746d106b37391b",
     "locked": true,
     "schema_version": 3,
     "solution": false,
     "task": false
    }
   },
   "outputs": [
    {
     "data": {
      "text/plain": [
       "[<matplotlib.lines.Line2D at 0x7f13a5437a90>]"
      ]
     },
     "execution_count": 61,
     "metadata": {},
     "output_type": "execute_result"
    },
    {
     "data": {
      "image/png": "[encoded data removed]",
      "text/plain": [
       "<Figure size 432x288 with 1 Axes>"
      ]
     },
     "metadata": {
      "needs_background": "light"
     },
     "output_type": "display_data"
    }
   ],
   "source": [
    "# Let us generate toy data\n",
    "np.random.seed(2)\n",
    "x = np.random.randn(100, 1)\n",
    "x = np.sort(x, axis=0)\n",
    "targets = np.sin(x * 2 * np.pi / 3)\n",
    "targets = targets + 0.2 * np.random.randn(*targets.shape)\n",
    "\n",
    "# Plot the data\n",
    "fig, ax = plt.subplots(1)\n",
    "ax.plot(x, targets, '.')"
   ]
  },
  {
   "cell_type": "code",
   "execution_count": null,
   "metadata": {
    "deletable": false,
    "editable": false,
    "nbgrader": {
     "cell_type": "code",
     "checksum": "f58005ded24101541643cec6ff0a9137",
     "grade": false,
     "grade_id": "cell-b5925a7912f3191c",
     "locked": true,
     "schema_version": 3,
     "solution": false,
     "task": false
    }
   },
   "outputs": [
    {
     "data": {
      "image/png": "[encoded data removed]",
      "text/plain": [
       "<Figure size 432x288 with 1 Axes>"
      ]
     },
     "metadata": {},
     "output_type": "display_data"
    }
   ],
   "source": [
    "# And train an MLP network using gradient descent\n",
    "from IPython import display\n",
    "\n",
    "if not skip_training:  # The trained MLP is not tested\n",
    "    mlp = MLPBatch(1, 10, 10, 1)  # Create MLP network\n",
    "    loss = MSELoss()  # Create loss\n",
    "\n",
    "    fig, ax = plt.subplots(1)\n",
    "    ax.plot(x, targets, '.')\n",
    "    learning_rate = 0.15\n",
    "    n_epochs = 1 if skip_training else 200\n",
    "    for i in range(n_epochs):\n",
    "        # Forward computations\n",
    "        y = mlp.forward(x)\n",
    "        c = loss.forward(y, targets)\n",
    "\n",
    "        # Backward computations\n",
    "        dy = loss.backward()\n",
    "        dx = mlp.backward(dy)\n",
    "\n",
    "        # Gradient descent update\n",
    "        learning_rate *= 0.99  # Learning rate annealing\n",
    "        for module in mlp.__dict__.values():\n",
    "            if hasattr(module, 'W'):\n",
    "                module.W = module.W - module.grad_W * learning_rate\n",
    "                module.b = module.b - module.grad_b * learning_rate\n",
    "\n",
    "        ax.clear()\n",
    "        ax.plot(x, targets, '.')\n",
    "        ax.plot(x, y, 'r-')\n",
    "        ax.grid(True)\n",
    "        ax.set_title('Iteration %d/%d' % (i+1, n_epochs))\n",
    "        display.clear_output(wait=True)\n",
    "        display.display(fig)\n",
    "        plt.pause(0.005)\n",
    "    display.clear_output(wait=True)"
   ]
  },
  {
   "cell_type": "markdown",
   "metadata": {
    "deletable": false,
    "editable": false,
    "nbgrader": {
     "cell_type": "markdown",
     "checksum": "778ff4525fa210606bebf85f115fb080",
     "grade": false,
     "grade_id": "cell-ca3ef83db74fc3f9",
     "locked": true,
     "schema_version": 3,
     "solution": false,
     "task": false
    }
   },
   "source": [
    "If you implement the MLP correctly, you will see that the learned function fits the training data."
   ]
  },
  {
   "cell_type": "markdown",
   "metadata": {
    "deletable": false,
    "editable": false,
    "nbgrader": {
     "cell_type": "markdown",
     "checksum": "295b11424526bb9dc1ea17bf141803b7",
     "grade": false,
     "grade_id": "cell-841919d678edba70",
     "locked": true,
     "schema_version": 3,
     "solution": false,
     "task": false
    }
   },
   "source": [
    "<div class=\"alert alert-block alert-info\">\n",
    "<b>Conclusions</b>\n",
    "</div>\n",
    "\n",
    "Now you have implemented backpropagation and trained an MLP network using gradient descent.\n",
    "\n",
    "PyTorch makes it easier to create neural networks with different architectures and optimize its parameters using (variants of) gradient descent:\n",
    "* It contains multiple building blocks with forward and backward computations implemented.\n",
    "* It implements optimization methods that work well for neural networks.\n",
    "* Computations can be performed either on GPU or CPU using the same code."
   ]
  },
  {
   "cell_type": "code",
   "execution_count": null,
   "metadata": {},
   "outputs": [],
   "source": []
  }
 ],
 "metadata": {
  "kernelspec": {
   "display_name": "Python 3",
   "language": "python",
   "name": "python3"
  },
  "language_info": {
   "codemirror_mode": {
    "name": "ipython",
    "version": 3
   },
   "file_extension": ".py",
   "mimetype": "text/x-python",
   "name": "python",
   "nbconvert_exporter": "python",
   "pygments_lexer": "ipython3",
   "version": "3.7.3"
  },
  "toc-autonumbering": false,
  "toc-showtags": false,
  "varInspector": {
   "cols": {
    "lenName": 16,
    "lenType": 16,
    "lenVar": 40
   },
   "kernels_config": {
    "python": {
     "delete_cmd_postfix": "",
     "delete_cmd_prefix": "del ",
     "library": "var_list.py",
     "varRefreshCmd": "print(var_dic_list())"
    },
    "r": {
     "delete_cmd_postfix": ") ",
     "delete_cmd_prefix": "rm(",
     "library": "var_list.r",
     "varRefreshCmd": "cat(var_dic_list()) "
    }
   },
   "types_to_exclude": [
    "module",
    "function",
    "builtin_function_or_method",
    "instance",
    "_Feature"
   ],
   "window_display": false
  }
 },
 "nbformat": 4,
 "nbformat_minor": 4
}
